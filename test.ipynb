{
 "cells": [
  {
   "cell_type": "code",
   "execution_count": 1,
   "metadata": {},
   "outputs": [
    {
     "data": {
      "text/plain": [
       "'hello world'"
      ]
     },
     "execution_count": 1,
     "metadata": {},
     "output_type": "execute_result"
    }
   ],
   "source": [
    "\"hello world\""
   ]
  },
  {
   "cell_type": "code",
   "execution_count": 2,
   "metadata": {},
   "outputs": [
    {
     "data": {
      "text/plain": [
       "3"
      ]
     },
     "execution_count": 2,
     "metadata": {},
     "output_type": "execute_result"
    }
   ],
   "source": [
    "i = 1\n",
    "while True:\n",
    "    if i < 3:\n",
    "        i += 1\n",
    "        continue\n",
    "    break\n",
    "i"
   ]
  },
  {
   "cell_type": "code",
   "execution_count": 21,
   "metadata": {},
   "outputs": [
    {
     "name": "stdout",
     "output_type": "stream",
     "text": [
      "index = 0\n",
      "modulo = 1\n",
      "float_div = 1\n",
      "i = 0, step = 11\n",
      "i = 1, step = 0\n",
      "diff = 1\n",
      "i = 2, step = 0\n",
      "diff = 2\n",
      "i = 3, step = 1\n",
      "diff = 3\n",
      "step % 10 = 1\n",
      "diff_temp = 1\n"
     ]
    },
    {
     "data": {
      "text/plain": [
       "[11, 0, 0, 1]"
      ]
     },
     "execution_count": 21,
     "metadata": {},
     "output_type": "execute_result"
    }
   ],
   "source": [
    "def move_figure(steps, index, dice):\n",
    "    print(f\"{index = }\")\n",
    "    steps[index] += dice\n",
    "    modulo = steps[index] % 10\n",
    "    print(f\"{modulo = }\")\n",
    "    float_div = steps[index] // 10\n",
    "    print(f\"{float_div = }\")\n",
    "    for i, step in enumerate(steps):\n",
    "        print(f\"{i = }, {step = }\")\n",
    "        if i == index:\n",
    "            continue\n",
    "        diff = abs(index - i)\n",
    "        print(f\"{diff = }\")\n",
    "        if step % 10 == modulo:\n",
    "            print(f\"{step % 10 = }\")\n",
    "            diff_temp = abs(float_div - step // 10)\n",
    "            print(f\"{diff_temp = }\")\n",
    "            if diff == diff_temp:\n",
    "                print(f\"diff == diff_temp\")\n",
    "                steps[i] = 0\n",
    "                print(f\"{steps}\")\n",
    "    return steps\n",
    "\n",
    "move_figure([5, 0, 0, 1], 0, 6)"
   ]
  },
  {
   "cell_type": "code",
   "execution_count": null,
   "metadata": {},
   "outputs": [],
   "source": []
  }
 ],
 "metadata": {
  "kernelspec": {
   "display_name": "env",
   "language": "python",
   "name": "python3"
  },
  "language_info": {
   "codemirror_mode": {
    "name": "ipython",
    "version": 3
   },
   "file_extension": ".py",
   "mimetype": "text/x-python",
   "name": "python",
   "nbconvert_exporter": "python",
   "pygments_lexer": "ipython3",
   "version": "3.12.7"
  }
 },
 "nbformat": 4,
 "nbformat_minor": 2
}
