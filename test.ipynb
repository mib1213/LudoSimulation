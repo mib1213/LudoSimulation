{
 "cells": [
  {
   "cell_type": "code",
   "execution_count": 1,
   "metadata": {},
   "outputs": [
    {
     "data": {
      "text/plain": [
       "'hello world'"
      ]
     },
     "execution_count": 1,
     "metadata": {},
     "output_type": "execute_result"
    }
   ],
   "source": [
    "\"hello world\""
   ]
  },
  {
   "cell_type": "code",
   "execution_count": 2,
   "metadata": {},
   "outputs": [
    {
     "data": {
      "text/plain": [
       "3"
      ]
     },
     "execution_count": 2,
     "metadata": {},
     "output_type": "execute_result"
    }
   ],
   "source": [
    "i = 1\n",
    "while True:\n",
    "    if i < 3:\n",
    "        i += 1\n",
    "        continue\n",
    "    break\n",
    "i"
   ]
  },
  {
   "cell_type": "code",
   "execution_count": 5,
   "metadata": {},
   "outputs": [
    {
     "data": {
      "text/plain": [
       "[11, 0, 0, 1]"
      ]
     },
     "execution_count": 5,
     "metadata": {},
     "output_type": "execute_result"
    }
   ],
   "source": [
    "positions = [0, 0, 0, 0]\n",
    "index = 0\n",
    "dice = 1\n",
    "\n",
    "def moving_figure(positions, dice, index):\n",
    "    #needed parameters: positions, dice, index\n",
    "\n",
    "    \"\"\"Here the function will later be explained.\"\"\"\n",
    "\n",
    "    if (positions[index] + dice) <= 44:\n",
    "        positions[index] += dice\n",
    "\n",
    "        #Determine wether a figure has to get kicked out\n",
    "\n",
    "        for x in positions:\n",
    "\n",
    "            if x == index:\n",
    "\n",
    "                continue\n",
    "\n",
    "            diff = abs(index - x)\n",
    "\n",
    "            modulo_index = index % diff\n",
    "            modulo_x = x % diff\n",
    "\n",
    "            floor_division_index = index // diff\n",
    "            floor_division_x = x // diff\n",
    "\n",
    "            if modulo_index == modulo_x:\n",
    "                if abs(floor_division_index - floor_division_x) == modulo_index:\n",
    "                    x = 0\n",
    "\n",
    "    return positions\n",
    "\n",
    "moving_figure([9, 0, 0, 1], 2, 0)"
   ]
  },
  {
   "cell_type": "code",
   "execution_count": null,
   "metadata": {},
   "outputs": [],
   "source": []
  }
 ],
 "metadata": {
  "kernelspec": {
   "display_name": "Python 3",
   "language": "python",
   "name": "python3"
  },
  "language_info": {
   "codemirror_mode": {
    "name": "ipython",
    "version": 3
   },
   "file_extension": ".py",
   "mimetype": "text/x-python",
   "name": "python",
   "nbconvert_exporter": "python",
   "pygments_lexer": "ipython3",
   "version": "3.13.0"
  }
 },
 "nbformat": 4,
 "nbformat_minor": 2
}
